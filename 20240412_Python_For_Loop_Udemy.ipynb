{
 "cells": [
  {
   "cell_type": "code",
   "execution_count": 1,
   "metadata": {},
   "outputs": [
    {
     "data": {
      "text/plain": [
       "' check if a value is found in the lists contained in a tuple.\\n\\nIterate over the main tuple to get each one of the elements of the seq tuple.\\n\\nSome of the elements are not lists, so you will need to check their type first.\\n\\nCheck if the target value is in a list and print \"Found\" if it is. Print this string once per occurrence of the target value.\\n\\nElse, if the target value is not found, you should not print any output. '"
      ]
     },
     "execution_count": 1,
     "metadata": {},
     "output_type": "execute_result"
    }
   ],
   "source": [
    "\"\"\" check if a value is found in the lists contained in a tuple.\n",
    "\n",
    "Iterate over the main tuple to get each one of the elements of the seq tuple.\n",
    "\n",
    "Some of the elements are not lists, so you will need to check their type first.\n",
    "\n",
    "Check if the target value is in a list and print \"Found\" if it is. Print this string once per occurrence of the target value.\n",
    "\n",
    "Else, if the target value is not found, you should not print any output. \"\"\""
   ]
  },
  {
   "cell_type": "code",
   "execution_count": 2,
   "metadata": {},
   "outputs": [
    {
     "name": "stdout",
     "output_type": "stream",
     "text": [
      "Found\n"
     ]
    }
   ],
   "source": [
    "seq = ([\"A\", \"B\", \"C\"], \"Hello\", [\"D\", \"E\", \"F\"], 5, [\"G\", \"D\", \"E\"])\n",
    "\n",
    "target = \"G\"\n",
    "\n",
    "def check_target_elem(seq, target):\n",
    "    # Write your code below\n",
    "    for elementl in iter(seq):\n",
    "        if type(elementl) == int:\n",
    "                continue\n",
    "        for elements in elementl:\n",
    "            if target in elements:\n",
    "                print(\"Found\")\n",
    "\n",
    "check_target_elem(seq, target)        "
   ]
  },
  {
   "cell_type": "code",
   "execution_count": null,
   "metadata": {},
   "outputs": [],
   "source": [
    "\"\"\" write code to find the total number of points for a given word. The word will be represented by a string in your program.\n",
    "\n",
    "Iterate over the characters of the string word and add the points to a counter.\n",
    "\n",
    "Even though we are naming this variable word, it can represent a sentence with characters like commas and spaces. It can be any string.\n",
    "\n",
    "The points per character are defined in the points dictionary:\n",
    "\n",
    "points = {\n",
    "    \"a\":1, \"b\":2, \"c\":3, \"d\":4, \"e\":5, \"f\":6, \"g\":7,\n",
    "    \"h\":8, \"i\":9, \"j\":10, \"k\":11, \"l\":12, \"m\":13, \"n\":14,\n",
    "    \"o\":15, \"p\":16, \"q\":17, \"r\":18, \"s\":19, \"t\":20, \"u\":21,\n",
    "    \"v\":22, \"w\":23, \"x\":24, \"y\":25, \"z\":26\n",
    "}\n",
    "Your code should not be case sensitive. Lowercase letters should have the same points as uppercase letters. For example: \"A\" and \"a\" must both add 1 to the counter.\n",
    "\n",
    "Characters that are not in the dictionary should simply be ignored. No points should be added or subtracted.\n",
    "\n",
    "Print the final value of the counter after all the iterations have been completed. \"\"\""
   ]
  },
  {
   "cell_type": "code",
   "execution_count": 20,
   "metadata": {},
   "outputs": [
    {
     "name": "stdout",
     "output_type": "stream",
     "text": [
      "153\n"
     ]
    }
   ],
   "source": [
    "points = {\n",
    "    \"a\":1, \"b\":2, \"c\":3, \"d\":4, \"e\":5, \"f\":6, \"g\":7,\n",
    "    \"h\":8, \"i\":9, \"j\":10, \"k\":11, \"l\":12, \"m\":13, \"n\":14,\n",
    "    \"o\":15, \"p\":16, \"q\":17, \"r\":18, \"s\":19, \"t\":20, \"u\":21,\n",
    "    \"v\":22, \"w\":23, \"x\":24, \"y\":25, \"z\":26\n",
    "}\n",
    "\n",
    "word = 'apple is A Fruit'\n",
    "\n",
    "def find_points_per_word(word, points):\n",
    "    counter = 0\n",
    "    word = word.lower()\n",
    "    # Write your code below\n",
    "    for element in word:\n",
    "        #print((element))\n",
    "        if element in points:\n",
    "            #print(points[element])\n",
    "            counter = counter + points[element]\n",
    "    print(counter)\n",
    "find_points_per_word(word, points)"
   ]
  },
  {
   "cell_type": "code",
   "execution_count": null,
   "metadata": {},
   "outputs": [],
   "source": []
  },
  {
   "cell_type": "code",
   "execution_count": null,
   "metadata": {},
   "outputs": [],
   "source": []
  },
  {
   "cell_type": "code",
   "execution_count": null,
   "metadata": {},
   "outputs": [],
   "source": []
  },
  {
   "cell_type": "code",
   "execution_count": null,
   "metadata": {},
   "outputs": [],
   "source": []
  },
  {
   "cell_type": "code",
   "execution_count": null,
   "metadata": {},
   "outputs": [],
   "source": []
  },
  {
   "cell_type": "code",
   "execution_count": null,
   "metadata": {},
   "outputs": [],
   "source": []
  },
  {
   "cell_type": "code",
   "execution_count": null,
   "metadata": {},
   "outputs": [],
   "source": []
  },
  {
   "cell_type": "code",
   "execution_count": null,
   "metadata": {},
   "outputs": [],
   "source": []
  },
  {
   "cell_type": "code",
   "execution_count": null,
   "metadata": {},
   "outputs": [],
   "source": []
  },
  {
   "cell_type": "code",
   "execution_count": null,
   "metadata": {},
   "outputs": [],
   "source": []
  },
  {
   "cell_type": "code",
   "execution_count": null,
   "metadata": {},
   "outputs": [],
   "source": []
  },
  {
   "cell_type": "code",
   "execution_count": null,
   "metadata": {},
   "outputs": [],
   "source": []
  },
  {
   "cell_type": "code",
   "execution_count": null,
   "metadata": {},
   "outputs": [],
   "source": []
  },
  {
   "cell_type": "code",
   "execution_count": null,
   "metadata": {},
   "outputs": [],
   "source": []
  },
  {
   "cell_type": "code",
   "execution_count": null,
   "metadata": {},
   "outputs": [],
   "source": []
  },
  {
   "cell_type": "code",
   "execution_count": null,
   "metadata": {},
   "outputs": [],
   "source": []
  },
  {
   "cell_type": "code",
   "execution_count": null,
   "metadata": {},
   "outputs": [],
   "source": []
  },
  {
   "cell_type": "code",
   "execution_count": null,
   "metadata": {},
   "outputs": [],
   "source": []
  },
  {
   "cell_type": "code",
   "execution_count": null,
   "metadata": {},
   "outputs": [],
   "source": []
  },
  {
   "cell_type": "code",
   "execution_count": null,
   "metadata": {},
   "outputs": [],
   "source": []
  },
  {
   "cell_type": "code",
   "execution_count": null,
   "metadata": {},
   "outputs": [],
   "source": []
  },
  {
   "cell_type": "code",
   "execution_count": null,
   "metadata": {},
   "outputs": [],
   "source": []
  },
  {
   "cell_type": "code",
   "execution_count": null,
   "metadata": {},
   "outputs": [],
   "source": []
  },
  {
   "cell_type": "code",
   "execution_count": null,
   "metadata": {},
   "outputs": [],
   "source": []
  },
  {
   "cell_type": "code",
   "execution_count": null,
   "metadata": {},
   "outputs": [],
   "source": []
  },
  {
   "cell_type": "code",
   "execution_count": null,
   "metadata": {},
   "outputs": [],
   "source": []
  },
  {
   "cell_type": "code",
   "execution_count": null,
   "metadata": {},
   "outputs": [],
   "source": []
  },
  {
   "cell_type": "code",
   "execution_count": null,
   "metadata": {},
   "outputs": [],
   "source": []
  },
  {
   "cell_type": "code",
   "execution_count": null,
   "metadata": {},
   "outputs": [],
   "source": []
  },
  {
   "cell_type": "code",
   "execution_count": null,
   "metadata": {},
   "outputs": [],
   "source": []
  },
  {
   "cell_type": "code",
   "execution_count": null,
   "metadata": {},
   "outputs": [],
   "source": []
  },
  {
   "cell_type": "code",
   "execution_count": null,
   "metadata": {},
   "outputs": [],
   "source": []
  },
  {
   "cell_type": "code",
   "execution_count": null,
   "metadata": {},
   "outputs": [],
   "source": []
  },
  {
   "cell_type": "code",
   "execution_count": null,
   "metadata": {},
   "outputs": [],
   "source": []
  },
  {
   "cell_type": "code",
   "execution_count": null,
   "metadata": {},
   "outputs": [],
   "source": []
  }
 ],
 "metadata": {
  "kernelspec": {
   "display_name": "Python 3",
   "language": "python",
   "name": "python3"
  },
  "language_info": {
   "codemirror_mode": {
    "name": "ipython",
    "version": 3
   },
   "file_extension": ".py",
   "mimetype": "text/x-python",
   "name": "python",
   "nbconvert_exporter": "python",
   "pygments_lexer": "ipython3",
   "version": "3.11.1"
  }
 },
 "nbformat": 4,
 "nbformat_minor": 2
}
